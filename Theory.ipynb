{
 "cells": [
  {
   "cell_type": "markdown",
   "metadata": {},
   "source": [
    "# Theory\n",
    "\n",
    "This file contains a summary of theory used in this project. It does not aim to provide a comprehensive introduction to the Finite Element Method (FEM) but may provide some useful clarification."
   ]
  },
  {
   "cell_type": "markdown",
   "metadata": {},
   "source": [
    "## The Problem\n",
    "\n",
    "This code is designed to solve the steady-state diffusion equation in a 2-dimensional domain using the FEM. The diffusion equation is relevant in a number of scenarios including thermal diffusion, the diffusion of a chemical in a medium or the spatial distributions of neutrons in a nuclear reactor.\n",
    "\n",
    "We will assume the diffusion coefficient $D$ is a constant and so we may write the equation we want to solve as:\n",
    "\n",
    "\\begin{align}\n",
    "$ \\nabla^{2}\\phi(\\vec{r}) = S $,\n",
    "\\end{align}\n",
    "\n",
    "where $\\phi(\\vec{r})$ is the field being solved for (e.g. the temperature of an object, concentration of a chemical of density of neutrons) and $S$ is a source which we will assume is constant over the domain\n",
    "\n",
    "We will further define a zero boundary-condition such that $\\phi = 0$ at the boundary of the domain.\n",
    "\n",
    "We want to write a code which will be able to read an input defining a mesh made of triangular and/or quadrilateral elements, receive some values for the diffusion coefficient and the source and then solve the system and output the solution to the equation."
   ]
  },
  {
   "cell_type": "markdown",
   "metadata": {},
   "source": [
    "## The Finite Element Method\n",
    "\n",
    "The finite element method breaks the domain up into a number of elements. Each type of element (for example triangle and quadrilateral elements) has several properties defined over a canonical element defined in local coordinates. Each element in the domain will then have coordiantes provided in the physical space of that domain. For example, take the triangular element below:\n",
    "\n",
    "<center><img src='https://raw.githubusercontent.com/coolernato/2D-FEM-Python/master/Github_resources/traingle_geometry.png' />\n",
    "<figcaption>Canonical traingle element and world-sapce triangle element</figcaption></center>\n",
    "</figure>\n",
    "\n",
    "The image on the left shows the canconical triangular element. In this image P$_{1}$ is at (0,0) in the ($\\xi$, $\\eta$) coordinate system, P$_{2}$ is at (1,0) and P$_{3}$ is at (0,1).The diagram on the right shows a triangluar element in world space. The angles at each vertex and the rotation of the traingle may be different to the canonical triangle.\n",
    "\n",
    "Each canonical element defines a number of basis functions over the extent of the element in local coordinates. For example, for a traingular element, they are defined as follows:\n",
    "\n",
    "$$\n",
    "\\begin{align}\n",
    "N_{1}(\\xi, \\eta) &= 1 - \\xi - \\eta,\\\\\n",
    "N_{2}(\\xi, \\eta) &= \\xi,\\\\\n",
    "N_{3}(\\xi, \\eta) &= \\eta.\n",
    "\\end{align}\n",
    "$$\n",
    "\n",
    "Note that $N_{i} = 1$ at P$_{i}$ but is zero at P$_{j}$ for $j\\ne i$"
   ]
  },
  {
   "cell_type": "code",
   "execution_count": null,
   "metadata": {},
   "outputs": [],
   "source": []
  }
 ],
 "metadata": {
  "kernelspec": {
   "display_name": "Python 3",
   "language": "python",
   "name": "python3"
  },
  "language_info": {
   "codemirror_mode": {
    "name": "ipython",
    "version": 3
   },
   "file_extension": ".py",
   "mimetype": "text/x-python",
   "name": "python",
   "nbconvert_exporter": "python",
   "pygments_lexer": "ipython3",
   "version": "3.7.3"
  }
 },
 "nbformat": 4,
 "nbformat_minor": 2
}
