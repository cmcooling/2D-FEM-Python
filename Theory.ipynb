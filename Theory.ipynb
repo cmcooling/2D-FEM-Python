{
 "cells": [
  {
   "cell_type": "markdown",
   "metadata": {},
   "source": [
    "# Theory\n",
    "\n",
    "This file contains a summary of theory used in this project. It does not aim to provide a comprehensive introduction to the Finite Element Method (FEM) but may provide some useful clarification."
   ]
  },
  {
   "cell_type": "markdown",
   "metadata": {},
   "source": [
    "## The Problem\n",
    "\n",
    "This code is designed to solve the steady-state diffusion equation in a 2-dimensional domain using the FEM. The diffusion equation is relevant in a number of scenarios including thermal diffusion, the diffusion of a chemical in a medium or the spatial distributions of neutrons in a nuclear reactor.\n",
    "\n",
    "We will assume the diffusion coefficient $D$ is a constant and so we may write the equation we want to solve as:\n",
    "\n",
    "\\begin{align}\n",
    "-D\\nabla^{2}\\phi(x, y) = S ,\n",
    "\\end{align}\n",
    "\n",
    "where $\\phi(x, y)$ is the field being solved for (e.g. the temperature of an object, concentration of a chemical of density of neutrons) and $S$ is a source which we will assume is constant over the domain\n",
    "\n",
    "We will further define a zero boundary-condition such that $\\phi = 0$ at the boundary of the domain.\n",
    "\n",
    "We want to write a code which will be able to read an input defining a mesh made of triangular and/or quadrilateral elements, receive some values for the diffusion coefficient and the source and then solve the system and output the solution to the equation."
   ]
  },
  {
   "cell_type": "markdown",
   "metadata": {},
   "source": [
    "## The Finite Element Method\n",
    "\n",
    "The finite element method breaks the domain up into a number of elements. Each type of element (for example triangle and quadrilateral elements) has several properties defined over a canonical element defined in local coordinates. Each element in the domain will then have coordiantes provided in the physical space of that domain. For example, take the triangular element below:\n",
    "\n",
    "<center><img src='https://raw.githubusercontent.com/coolernato/2D-FEM-Python/master/Github_resources/traingle_geometry.png' />\n",
    "<figcaption>Canonical traingle element and world-sapce triangle element</figcaption></center>\n",
    "</figure>\n",
    "\n",
    "The image on the left shows the canconical triangular element. In this image P$_{1}$ is at (0,0) in the ($\\xi$, $\\eta$) coordinate system, P$_{2}$ is at (1,0) and P$_{3}$ is at (0,1).The diagram on the right shows a triangluar element in world space. The angles at each vertex and the rotation of the traingle may be different to the canonical triangle.\n",
    "\n",
    "Each canonical element defines a number of shape functions over the extent of the element in local coordinates. For example, for a traingular element, they are defined as follows:\n",
    "\n",
    "$$\n",
    "\\begin{align}\n",
    "N_{1}(\\xi, \\eta) &= 1 - \\xi - \\eta,\\\\\n",
    "N_{2}(\\xi, \\eta) &= \\xi,\\\\\n",
    "N_{3}(\\xi, \\eta) &= \\eta.\n",
    "\\end{align}\n",
    "$$\n",
    "\n",
    "Note that $N_{i} = 1$ at P$_{i}$ but is zero at P$_{j}$ for $j\\ne i$. In addition $\\sum\\limits_{i} N_{i}(\\xi, \\eta) = 1$ for all $\\xi$ and $\\eta$. These shape functions are zero outside of the element.\n",
    "\n",
    "We then approximate the solution in the domain as:\n",
    "\n",
    "\\begin{align}\n",
    "\\phi(x,y) = \\sum\\limits_{i} \\phi_{i} \\psi_{i}(x,y)\n",
    "\\end{align}\n",
    "\n",
    "where $\\phi_{i}$ is the weight of the shape function and $\\psi_{i}(x,y)$ is the $i$th shape function. We will be using the first-order continuous FEM which means the weights are the magnitudes of the solution at the nodes of the system. Further, the $i$th shape function is the sum of the shape functions of each element which touch node $i$ that are 1 are the corner of the element which touches node $i$\n",
    "\n",
    "The FEM then proceeds to try to calcualte the values of $\\phi_{i}$ to complete the appximation of the solution.\n",
    "\n",
    "We proceed by approximating the original equation of the problem in terms of the basis functions and weights at each node. From this a number of simultaneous equations for the weights can be formed. This can be represented as a matrix equation which can be solved by a variety of methods."
   ]
  },
  {
   "cell_type": "markdown",
   "metadata": {},
   "source": [
    "## Forming the Equations\n",
    "\n",
    "We begin by taking the original equation\n",
    "\n",
    "\\begin{align}\n",
    "-D\\nabla^{2}\\phi(x, y) = S\n",
    "\\end{align}\n",
    "\n",
    "and then multiply both sides of the equation by a test function and integrate this equation over the domain. We will be used the Galerkin approximation, meaning we also use the basis functions of the element as test functions. Thus, using the $j$th basis function as a test function, in each element we obtain the equation:\n",
    "\n",
    "\\begin{align}\n",
    "-\\int_{\\Omega}\\psi_{j}(x,y)\\nabla^{2}\\phi(x,y)\\textrm{d}A = \\int_{\\Omega}\\psi_{j}(x,y)S\\textrm{d}A,\n",
    "\\end{align}\n",
    "\n",
    "where the subscript $\\Omega$ of the integral and the $\\textrm{d}A$ indicates the integrals are over the interior of the element (in our 2D example, this is the area of each element). We then use Green's First Identity to obtain:\n",
    "\n",
    "\\begin{align}\n",
    "\\int_{\\Omega}\\nabla\\psi_{j}(x,y)\\cdot\\nabla \\phi(x,y) \\textrm{d}A - \\int_{\\partial\\Omega} \\psi_{j}(x,y)\\left(\\nabla\\phi(x,y)\\right)\\cdot \\vec{n} \\textrm{d}B = \\int_{\\Omega}\\psi_{j}(x,y)S \\textrm{d}A,\n",
    "\\end{align}\n",
    "\n",
    "where the subscript $\\partial\\Omega$ of the integral and the $\\textrm{d}B$ indicates the final integral on the left hand side of the equation is over the boundary of the domain (for our 2D example this is a line integral around the boundary of domain). $\\vec{n}$ is the normal to the boundary of the element.\n",
    "\n",
    "Next, we substitute in the approximation of the solution\n",
    "\n",
    "\\begin{align}\n",
    "\\phi(x,y) = \\sum\\limits_{i} \\phi_{i} \\psi_{i}(x,y)\n",
    "\\end{align}\n",
    "\n",
    "to obtain:\n",
    "\n",
    "\\begin{align}\n",
    "\\sum\\limits_{i} \\phi_{i} \\left(\\int_{\\Omega}\\nabla\\psi_{j}(x,y)\\cdot\\nabla \\psi_{i}(x,y) \\textrm{d}A - \\int_{\\partial\\Omega} \\psi_{j}(x,y)\\left(\\nabla\\psi_{i}(x,y)\\right)\\cdot \\vec{n} \\textrm{d}B \\right) = \\int_{\\Omega}\\psi_{j}(x,y)S \\textrm{d}A,\n",
    "\\end{align}\n",
    "\n",
    "The next step is to form a matric equation of the form $\\mathbf{M}\\vec{\\phi} = \\vec{S}$ where each row of the matrix corresponds to this equation for one value of $j$. The vector $\\vec{\\phi}$ contains the values of $\\phi_{i}$ - the weights of each of the basis functions. Thus calculating $\\vec{\\phi}$ is sufficient to calculate the approximate solution to the original equation. We form this matrix equation by calcualting the contribution to each term for each equation for each element in the domain and adding them together."
   ]
  },
  {
   "cell_type": "markdown",
   "metadata": {},
   "source": [
    "### The Jacobian\n",
    "\n",
    "The Jacobian of an element is useful when transforming between a real element and a canonical element. "
   ]
  },
  {
   "cell_type": "markdown",
   "metadata": {},
   "source": [
    "### Term 1\n",
    "\n",
    "The first term is:\n",
    "\n",
    "\\begin{align}\n",
    "\\sum\\limits_{i} \\phi_{i} \\int_{\\Omega}\\nabla\\psi_{j}(x,y)\\cdot\\nabla \\psi_{i}(x,y) \\textrm{d}A\n",
    "\\end{align}"
   ]
  },
  {
   "cell_type": "markdown",
   "metadata": {},
   "source": [
    "## Further Reading\n",
    "\n",
    "This is a very brief description of the method and aims to serve mainly as a disambiguation for readers who are already familiar with the FEM. For a fuller description of the FEM, consider the following resources:\n",
    "\n",
    "- COMSOL have written a [more detailed and rigorous description](https://uk.comsol.com/multiphysics/finite-element-method#weak2) of the FEM being used to solve the diffusion equation."
   ]
  },
  {
   "cell_type": "code",
   "execution_count": null,
   "metadata": {},
   "outputs": [],
   "source": []
  }
 ],
 "metadata": {
  "kernelspec": {
   "display_name": "Python 3",
   "language": "python",
   "name": "python3"
  },
  "language_info": {
   "codemirror_mode": {
    "name": "ipython",
    "version": 3
   },
   "file_extension": ".py",
   "mimetype": "text/x-python",
   "name": "python",
   "nbconvert_exporter": "python",
   "pygments_lexer": "ipython3",
   "version": "3.8.3"
  }
 },
 "nbformat": 4,
 "nbformat_minor": 2
}
